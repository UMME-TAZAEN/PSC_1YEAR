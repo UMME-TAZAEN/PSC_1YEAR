{
 "cells": [
  {
   "cell_type": "code",
   "execution_count": 1,
   "id": "e24820a8-3552-49e0-8bbd-62e5775d58fb",
   "metadata": {},
   "outputs": [],
   "source": [
    "a=2"
   ]
  },
  {
   "cell_type": "code",
   "execution_count": 2,
   "id": "b068b7fb-8dba-40ba-aa2d-f96b1dd015ca",
   "metadata": {},
   "outputs": [
    {
     "data": {
      "text/plain": [
       "2"
      ]
     },
     "execution_count": 2,
     "metadata": {},
     "output_type": "execute_result"
    }
   ],
   "source": [
    "a"
   ]
  },
  {
   "cell_type": "code",
   "execution_count": 9,
   "id": "d3d643b7-c64e-4961-80f7-ecca067e0072",
   "metadata": {},
   "outputs": [
    {
     "name": "stdout",
     "output_type": "stream",
     "text": [
      "2\n"
     ]
    }
   ],
   "source": [
    "print(a)"
   ]
  },
  {
   "cell_type": "code",
   "execution_count": 11,
   "id": "27537959-271d-412f-963d-b3dbe460dccb",
   "metadata": {},
   "outputs": [
    {
     "name": "stdout",
     "output_type": "stream",
     "text": [
      "umme tazaen\n"
     ]
    }
   ],
   "source": [
    "print(\"umme tazaen\")"
   ]
  },
  {
   "cell_type": "code",
   "execution_count": 16,
   "id": "8600c00a-b00d-4ac6-8a58-a2b52a68769f",
   "metadata": {},
   "outputs": [],
   "source": [
    "name = \"umme tazaen\""
   ]
  },
  {
   "cell_type": "code",
   "execution_count": 17,
   "id": "ad332ec2-98a0-4b44-8f55-f6fd507ca932",
   "metadata": {},
   "outputs": [
    {
     "name": "stdout",
     "output_type": "stream",
     "text": [
      "umme tazaen\n"
     ]
    }
   ],
   "source": [
    "print(name)"
   ]
  },
  {
   "cell_type": "code",
   "execution_count": 18,
   "id": "01972511-5329-4f8a-97c5-ce27c43b260e",
   "metadata": {},
   "outputs": [
    {
     "data": {
      "text/plain": [
       "'umme tazaen'"
      ]
     },
     "execution_count": 18,
     "metadata": {},
     "output_type": "execute_result"
    }
   ],
   "source": [
    "name"
   ]
  },
  {
   "cell_type": "code",
   "execution_count": 21,
   "id": "ee1ad991-7ebf-4b41-81d8-09eb9045493d",
   "metadata": {},
   "outputs": [],
   "source": [
    "a, b ,c = 5,4,7"
   ]
  },
  {
   "cell_type": "code",
   "execution_count": 23,
   "id": "af9e80e9-bb1b-48f0-830f-c385bfcb95ca",
   "metadata": {},
   "outputs": [],
   "source": [
    "a = b = c = 7"
   ]
  },
  {
   "cell_type": "code",
   "execution_count": 24,
   "id": "d5d8d2b9-fedd-4ace-ba36-acaec759222b",
   "metadata": {},
   "outputs": [
    {
     "name": "stdout",
     "output_type": "stream",
     "text": [
      "7 7 7\n"
     ]
    }
   ],
   "source": [
    "print(a, b, c)"
   ]
  },
  {
   "cell_type": "code",
   "execution_count": 26,
   "id": "2e9af656-64b2-492f-93e6-6abd5739c380",
   "metadata": {},
   "outputs": [
    {
     "name": "stdout",
     "output_type": "stream",
     "text": [
      "7,7,7\n"
     ]
    }
   ],
   "source": [
    "print(a,b,c, sep=',')"
   ]
  },
  {
   "cell_type": "code",
   "execution_count": 28,
   "id": "673c66a0-caab-420f-ada4-45657b7c79e7",
   "metadata": {},
   "outputs": [
    {
     "name": "stdout",
     "output_type": "stream",
     "text": [
      "7$7$7\n"
     ]
    }
   ],
   "source": [
    "print(a,b,c, sep='$')"
   ]
  },
  {
   "cell_type": "code",
   "execution_count": 29,
   "id": "f208b2c8-2b75-4499-8f7f-eaac584ba703",
   "metadata": {},
   "outputs": [
    {
     "name": "stdout",
     "output_type": "stream",
     "text": [
      "umme tazaen\n",
      "mahek shaikh\n"
     ]
    }
   ],
   "source": [
    "print(\"umme tazaen\")\n",
    "print(\"mahek shaikh\")"
   ]
  },
  {
   "cell_type": "code",
   "execution_count": 30,
   "id": "206eb3ec-8b52-40e7-af65-6915220dca7f",
   "metadata": {},
   "outputs": [
    {
     "name": "stdout",
     "output_type": "stream",
     "text": [
      "umme tazaen\tmahek shaikh\n"
     ]
    }
   ],
   "source": [
    "print('umme tazaen', end='\\t')\n",
    "print(\"mahek shaikh\")"
   ]
  },
  {
   "cell_type": "code",
   "execution_count": 31,
   "id": "dcf7e623-940a-437a-8c66-878f74ce78e2",
   "metadata": {},
   "outputs": [
    {
     "name": "stdout",
     "output_type": "stream",
     "text": [
      "umme tazaen\n",
      "mahek shaikh\n"
     ]
    }
   ],
   "source": [
    "print('umme tazaen',end='\\n')\n",
    "print(\"mahek shaikh\")"
   ]
  },
  {
   "cell_type": "code",
   "execution_count": 34,
   "id": "d36dec7b-b19a-450f-b92a-2ad63c665ec4",
   "metadata": {},
   "outputs": [
    {
     "name": "stdout",
     "output_type": "stream",
     "text": [
      "umme tazaen\tmahek shaik\tankita\tshreya\n"
     ]
    }
   ],
   "source": [
    "print('umme tazaen', end='\\t')\n",
    "print('mahek shaik', end='\\t')\n",
    "print('ankita', end='\\t')\n",
    "print(\"shreya\")"
   ]
  },
  {
   "cell_type": "code",
   "execution_count": 38,
   "id": "45171cbf-0fdf-4e51-aeba-ab23b42c188c",
   "metadata": {},
   "outputs": [
    {
     "ename": "SyntaxError",
     "evalue": "unmatched ')' (781684079.py, line 3)",
     "output_type": "error",
     "traceback": [
      "\u001b[0;36m  Cell \u001b[0;32mIn[38], line 3\u001b[0;36m\u001b[0m\n\u001b[0;31m    a =int (\"input the value of a\"))\u001b[0m\n\u001b[0m                                   ^\u001b[0m\n\u001b[0;31mSyntaxError\u001b[0m\u001b[0;31m:\u001b[0m unmatched ')'\n"
     ]
    }
   ],
   "source": [
    "# write a code to add 2 nos.\n",
    "print(\"Enter Two Nos. \")\n",
    "a =int (\"input the value of a\"))\n",
    "b = int (\"input the value of b\"))\n",
    "c = a + b\n",
    "print(c)"
   ]
  },
  {
   "cell_type": "code",
   "execution_count": null,
   "id": "49d25c46-c41a-4efd-a7b6-b7850168e4a8",
   "metadata": {},
   "outputs": [],
   "source": []
  }
 ],
 "metadata": {
  "kernelspec": {
   "display_name": "Python 3 (ipykernel)",
   "language": "python",
   "name": "python3"
  },
  "language_info": {
   "codemirror_mode": {
    "name": "ipython",
    "version": 3
   },
   "file_extension": ".py",
   "mimetype": "text/x-python",
   "name": "python",
   "nbconvert_exporter": "python",
   "pygments_lexer": "ipython3",
   "version": "3.12.4"
  }
 },
 "nbformat": 4,
 "nbformat_minor": 5
}
